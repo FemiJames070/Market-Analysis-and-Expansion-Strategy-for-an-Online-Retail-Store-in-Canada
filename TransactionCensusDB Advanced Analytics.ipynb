{
 "cells": [
  {
   "cell_type": "markdown",
   "id": "7694a193-39bd-4f7a-8acb-bf58ba549419",
   "metadata": {},
   "source": [
    "# TransactionCensusDB"
   ]
  },
  {
   "cell_type": "markdown",
   "id": "f50d725c-5123-4005-b56a-bb32926052ad",
   "metadata": {},
   "source": [
    "### Understand the Data\n",
    "#### Online Retail Data\n",
    "Columns:\n",
    "1. Country: Canada (filtered).\n",
    "2. CustomerID: Unique identifier for customers.\n",
    "3. Sum of Quantity: Total quantity purchased by each customer.\n",
    "4. Sum of UnitPrice: Total unit price for each customer.\n",
    "5. TotalSpent: Total amount spent by each customer.\n",
    "6. TotalPurchase: Total number of purchases by each customer.\n",
    "7. FirstPurchaseDate: Date of the first purchase.\n",
    "8. LastPurchaseDate: Date of the last purchase.\n",
    "\n",
    "#### Census Data\n",
    "Columns:\n",
    "1. Age Characteristics: Distribution of age groups (e.g., 0–14 years, 15–64 years, 65+ years).\n",
    "2. Income Characteristics: Average after-tax income and total income for men and women.\n",
    "3. Industry Classification: Employment distribution across industries (e.g., retail trade, healthcare, manufacturing).\n",
    "4. Household Characteristics: Housing types, ownership, and spending on shelter costs.\n",
    "5. Language Spoken: Distribution of languages spoken at home.\n",
    "6. Commuting Patterns: Main modes of commuting (e.g., car, public transit, walking)."
   ]
  },
  {
   "cell_type": "code",
   "execution_count": 1,
   "id": "be349668-0eac-43cc-8832-ccbd686a3c65",
   "metadata": {},
   "outputs": [],
   "source": [
    "# Import libraries\n",
    "import pandas as pd  # For data manipulation\n",
    "import numpy as np   # For numerical operations\n",
    "import matplotlib.pyplot as plt  # For data visualization\n",
    "import seaborn as sns  # For advanced data visualization\n",
    "from sklearn.model_selection import train_test_split  # For splitting data\n",
    "from sklearn.linear_model import LinearRegression  # For regression modeling\n",
    "from sklearn.metrics import mean_squared_error, r2_score  # For model evaluation"
   ]
  },
  {
   "cell_type": "markdown",
   "id": "65653264-2f5b-43a6-b57c-14d3eebcf5a0",
   "metadata": {},
   "source": [
    "## Load Dataset"
   ]
  },
  {
   "cell_type": "code",
   "execution_count": 2,
   "id": "1afd54fd-348c-422f-a51f-ea7c07def975",
   "metadata": {},
   "outputs": [],
   "source": [
    "# Load Dataset 1: Online_Retail_Transaction_clean\n",
    "online_retail_df = pd.read_csv(\n",
    "    'C:/Users/femij/Downloads/Online_Retail_Transaction_clean.csv',\n",
    "    low_memory=False\n",
    ")\n",
    "\n",
    "# Load Dataset 2: Census_Profile_2021_clean\n",
    "census_df = pd.read_csv('C:/Users/femij/Downloads/Census_Profile_2021_clean.csv')"
   ]
  },
  {
   "cell_type": "markdown",
   "id": "e414ec26-1acf-4374-93ae-1b536232755f",
   "metadata": {},
   "source": [
    "## Explore the Online Retail Dataset"
   ]
  },
  {
   "cell_type": "code",
   "execution_count": 3,
   "id": "86ba3f55-7b66-42f6-94b8-51e8d1d3626f",
   "metadata": {},
   "outputs": [
    {
     "name": "stdout",
     "output_type": "stream",
     "text": [
      "Online Retail Data for Canada:\n",
      "       InvoiceNo StockCode                        Description  Quantity  \\\n",
      "490966    559557     21232     STRAWBERRY CERAMIC TRINKET BOX        12   \n",
      "490967    559557     21892  TRADITIONAL WOODEN CATCH CUP GAME        12   \n",
      "491027    564428     21993         FLORAL FOLK STATIONERY SET        12   \n",
      "493556    557322     22561        WOODEN SCHOOL COLOURING SET        12   \n",
      "493557    557322     23191       BUNDLE OF 3 RETRO NOTE BOOKS        12   \n",
      "\n",
      "             InvoiceDate  UnitPrice  CustomerID Country  \n",
      "490966  2011-07-11 10:33       1.25     17444.0  Canada  \n",
      "490967  2011-07-11 10:33       1.25     17444.0  Canada  \n",
      "491027  2011-08-25 11:27       1.25     17844.0  Canada  \n",
      "493556   2011-06-20 9:04       1.65     17444.0  Canada  \n",
      "493557   2011-06-20 9:04       1.65     17444.0  Canada  \n"
     ]
    }
   ],
   "source": [
    "# Filter Online Retail Data for Canada\n",
    "online_retail_canada = online_retail_df[online_retail_df['Country'] == 'Canada']\n",
    "\n",
    "# Display the first few rows of the filtered data\n",
    "print(\"Online Retail Data for Canada:\")\n",
    "print(online_retail_canada.head())"
   ]
  },
  {
   "cell_type": "code",
   "execution_count": 4,
   "id": "170b5e7e-89be-4d8b-bf0a-517747f9ccf9",
   "metadata": {},
   "outputs": [
    {
     "name": "stdout",
     "output_type": "stream",
     "text": [
      "Missing Values in Online Retail Data:\n",
      "InvoiceNo      0\n",
      "StockCode      0\n",
      "Description    0\n",
      "Quantity       0\n",
      "InvoiceDate    0\n",
      "UnitPrice      0\n",
      "CustomerID     0\n",
      "Country        0\n",
      "dtype: int64\n"
     ]
    }
   ],
   "source": [
    "# Check for missing values\n",
    "print(\"Missing Values in Online Retail Data:\")\n",
    "print(online_retail_canada.isnull().sum())"
   ]
  },
  {
   "cell_type": "code",
   "execution_count": 5,
   "id": "fc66933a-d755-4d95-82d3-3014563af757",
   "metadata": {},
   "outputs": [
    {
     "name": "stdout",
     "output_type": "stream",
     "text": [
      "Summary Statistics for Online Retail Data:\n",
      "         Quantity   UnitPrice    CustomerID\n",
      "count  151.000000  151.000000    151.000000\n",
      "mean    18.298013    6.030331  17321.079470\n",
      "std     46.682587   44.713675    521.471208\n",
      "min      1.000000    0.100000  15388.000000\n",
      "25%      6.000000    0.830000  17444.000000\n",
      "50%     12.000000    1.650000  17444.000000\n",
      "75%     20.000000    2.950000  17444.000000\n",
      "max    504.000000  550.940000  17844.000000\n"
     ]
    }
   ],
   "source": [
    "# Summary statistics\n",
    "print(\"Summary Statistics for Online Retail Data:\")\n",
    "print(online_retail_canada.describe())"
   ]
  },
  {
   "cell_type": "code",
   "execution_count": 6,
   "id": "0b9684ce-fff9-44bf-a9a6-710c17571fa5",
   "metadata": {},
   "outputs": [
    {
     "name": "stdout",
     "output_type": "stream",
     "text": [
      "Summary Information for Online Retail Data:\n",
      "<class 'pandas.core.frame.DataFrame'>\n",
      "Index: 151 entries, 490966 to 530100\n",
      "Data columns (total 8 columns):\n",
      " #   Column       Non-Null Count  Dtype  \n",
      "---  ------       --------------  -----  \n",
      " 0   InvoiceNo    151 non-null    object \n",
      " 1   StockCode    151 non-null    object \n",
      " 2   Description  151 non-null    object \n",
      " 3   Quantity     151 non-null    int64  \n",
      " 4   InvoiceDate  151 non-null    object \n",
      " 5   UnitPrice    151 non-null    float64\n",
      " 6   CustomerID   151 non-null    float64\n",
      " 7   Country      151 non-null    object \n",
      "dtypes: float64(2), int64(1), object(5)\n",
      "memory usage: 10.6+ KB\n",
      "None\n"
     ]
    }
   ],
   "source": [
    "# Summary statistics\n",
    "print(\"Summary Information for Online Retail Data:\")\n",
    "print(online_retail_canada.info())"
   ]
  },
  {
   "cell_type": "markdown",
   "id": "89f0d278-6cd5-4e12-be0f-1f77d52c0935",
   "metadata": {},
   "source": [
    "## Data Preparation"
   ]
  },
  {
   "cell_type": "code",
   "execution_count": 9,
   "id": "dd827e6d-d564-4a8a-92ac-d1363f3faee0",
   "metadata": {},
   "outputs": [
    {
     "name": "stdout",
     "output_type": "stream",
     "text": [
      "       InvoiceNo StockCode                        Description  Quantity  \\\n",
      "490966    559557     21232     STRAWBERRY CERAMIC TRINKET BOX        12   \n",
      "490967    559557     21892  TRADITIONAL WOODEN CATCH CUP GAME        12   \n",
      "491027    564428     21993         FLORAL FOLK STATIONERY SET        12   \n",
      "493556    557322     22561        WOODEN SCHOOL COLOURING SET        12   \n",
      "493557    557322     23191       BUNDLE OF 3 RETRO NOTE BOOKS        12   \n",
      "\n",
      "        UnitPrice  TotalAmount  \n",
      "490966       1.25         15.0  \n",
      "490967       1.25         15.0  \n",
      "491027       1.25         15.0  \n",
      "493556       1.65         19.8  \n",
      "493557       1.65         19.8  \n"
     ]
    }
   ],
   "source": [
    "# Calculate 'TotalAmount' as Quantity * UnitPrice\n",
    "online_retail_canada.loc[:, 'TotalAmount'] = online_retail_canada['Quantity'] * online_retail_canada['UnitPrice']\n",
    "\n",
    "# Verify the updated DataFrame to check 'TotalAmount'\n",
    "print(online_retail_canada[['InvoiceNo', 'StockCode', 'Description', 'Quantity', 'UnitPrice', 'TotalAmount']].head())"
   ]
  },
  {
   "cell_type": "code",
   "execution_count": 11,
   "id": "888848df-0a9a-4a0b-91f7-ce23e0457d8d",
   "metadata": {},
   "outputs": [],
   "source": [
    "# Convert 'InvoiceDate' to datetime type (if it's not already)\n",
    "online_retail_canada['InvoiceDate'] = pd.to_datetime(online_retail_canada['InvoiceDate'], errors='coerce')\n",
    "\n",
    "# Extract the month from 'InvoiceDate' and create a 'Month' column\n",
    "online_retail_canada['Month'] = online_retail_canada['InvoiceDate'].dt.to_period('M')"
   ]
  },
  {
   "cell_type": "markdown",
   "id": "ddd9b8bf-e551-4fac-abed-adb4b3584566",
   "metadata": {},
   "source": [
    "### Monthly Sales Trends in Canada"
   ]
  },
  {
   "cell_type": "code",
   "execution_count": 12,
   "id": "fbefda48-871a-4751-8453-40339aaac4bf",
   "metadata": {},
   "outputs": [
    {
     "data": {
      "image/png": "[encoded data removed]",
      "text/plain": [
       "<Figure size 1000x600 with 1 Axes>"
      ]
     },
     "metadata": {},
     "output_type": "display_data"
    }
   ],
   "source": [
    "# Group by 'Month' and calculate total sales\n",
    "monthly_sales_canada = online_retail_canada.groupby('Month')['TotalAmount'].sum()\n",
    "\n",
    "# Plot the monthly sales trend\n",
    "plt.figure(figsize=(10, 6))\n",
    "monthly_sales_canada.plot(kind='line', marker='o')\n",
    "plt.title('Monthly Sales Trends in Canada')\n",
    "plt.xlabel('Month')\n",
    "plt.ylabel('Total Sales')\n",
    "plt.grid(True)\n",
    "plt.show()"
   ]
  },
  {
   "cell_type": "markdown",
   "id": "bda25234-a290-4c3e-a963-5e4871b20300",
   "metadata": {},
   "source": [
    "## Top Selling Products in Canada"
   ]
  },
  {
   "cell_type": "code",
   "execution_count": 13,
   "id": "c9ac78b9-13de-4c1f-a823-d65f52278b84",
   "metadata": {},
   "outputs": [
    {
     "data": {
      "image/png": "[encoded data removed]",
      "text/plain": [
       "<Figure size 1000x600 with 1 Axes>"
      ]
     },
     "metadata": {},
     "output_type": "display_data"
    }
   ],
   "source": [
    "# Group by Product and calculate total revenue\n",
    "top_products_canada = online_retail_canada.groupby('Description')['TotalAmount'].sum().sort_values(ascending=False).head(10)\n",
    "\n",
    "# Plot the top-selling products\n",
    "plt.figure(figsize=(10, 6))\n",
    "top_products_canada.plot(kind='bar')\n",
    "plt.title('Top Selling Products in Canada by Revenue')\n",
    "plt.xlabel('Product')\n",
    "plt.ylabel('Total Revenue')\n",
    "plt.xticks(rotation=45)\n",
    "plt.show()"
   ]
  },
  {
   "cell_type": "markdown",
   "id": "ffbbeef8-bab8-4ced-b947-b06336cc2d04",
   "metadata": {},
   "source": [
    "## Exploring the Census Data"
   ]
  },
  {
   "cell_type": "code",
   "execution_count": 14,
   "id": "18d551e0-fb21-4a30-bccb-778ea16a8651",
   "metadata": {},
   "outputs": [
    {
     "name": "stdout",
     "output_type": "stream",
     "text": [
      "Census Data for Canada:\n",
      "                       Topic  \\\n",
      "0  Household characteristics   \n",
      "1  Household characteristics   \n",
      "2  Household characteristics   \n",
      "3  Household characteristics   \n",
      "4  Household characteristics   \n",
      "\n",
      "                                      Characteristic       Total  Men  Women  \n",
      "0  Total - Private households by tenure - 25% sam...  14978940.0  NaN    NaN  \n",
      "1                                              Owner   9955975.0  NaN    NaN  \n",
      "2                                             Renter   4953840.0  NaN    NaN  \n",
      "3  Dwelling provided by the local government, Fir...     69130.0  NaN    NaN  \n",
      "4  Total - Occupied private dwellings by condomin...  14978940.0  NaN    NaN  \n",
      "Index(['Topic', 'Characteristic', 'Total', 'Men', 'Women'], dtype='object')\n"
     ]
    }
   ],
   "source": [
    "# Display the first few rows of the census data\n",
    "print(\"Census Data for Canada:\")\n",
    "print(census_df.head())\n",
    "\n",
    "# Check column names\n",
    "print(census_df.columns)"
   ]
  },
  {
   "cell_type": "code",
   "execution_count": 15,
   "id": "7f2d2890-05dd-4b0e-879e-f3439b3f226b",
   "metadata": {},
   "outputs": [
    {
     "name": "stdout",
     "output_type": "stream",
     "text": [
      "Summary Information for Online Retail Data:\n",
      "<class 'pandas.core.frame.DataFrame'>\n",
      "RangeIndex: 2631 entries, 0 to 2630\n",
      "Data columns (total 5 columns):\n",
      " #   Column          Non-Null Count  Dtype  \n",
      "---  ------          --------------  -----  \n",
      " 0   Topic           2631 non-null   object \n",
      " 1   Characteristic  2629 non-null   object \n",
      " 2   Total           2631 non-null   float64\n",
      " 3   Men             2401 non-null   float64\n",
      " 4   Women           2401 non-null   float64\n",
      "dtypes: float64(3), object(2)\n",
      "memory usage: 102.9+ KB\n",
      "None\n"
     ]
    }
   ],
   "source": [
    "# Summary statistics\n",
    "print(\"Summary Information for Online Retail Data:\")\n",
    "print(census_df.info())"
   ]
  },
  {
   "cell_type": "code",
   "execution_count": 16,
   "id": "73c7784c-d657-429d-97b8-46f28d2850aa",
   "metadata": {},
   "outputs": [
    {
     "name": "stdout",
     "output_type": "stream",
     "text": [
      "Missing Values in Census Data for Canada:\n",
      "Topic               0\n",
      "Characteristic      2\n",
      "Total               0\n",
      "Men               230\n",
      "Women             230\n",
      "dtype: int64\n"
     ]
    }
   ],
   "source": [
    "# Check for missing values in Census Data\n",
    "print(\"Missing Values in Census Data for Canada:\")\n",
    "print(census_df.isnull().sum())"
   ]
  },
  {
   "cell_type": "code",
   "execution_count": 17,
   "id": "ac80b424-d994-47e3-bacb-3c40943739aa",
   "metadata": {},
   "outputs": [],
   "source": [
    "# Fill missing values in 'Characteristic' with 'Unknown'\n",
    "census_df['Characteristic'] = census_df['Characteristic'].fillna('Unknown')"
   ]
  },
  {
   "cell_type": "code",
   "execution_count": 18,
   "id": "aee34dab-6bea-49ba-a8aa-54b9f149863e",
   "metadata": {},
   "outputs": [],
   "source": [
    "# Fill missing values in 'Men' and 'Women' with 0\n",
    "census_df['Men'] = census_df['Men'].fillna(0)\n",
    "census_df['Women'] = census_df['Women'].fillna(0)"
   ]
  },
  {
   "cell_type": "code",
   "execution_count": 19,
   "id": "07107ed1-354f-4266-af5a-c01f303f5d1f",
   "metadata": {},
   "outputs": [
    {
     "name": "stdout",
     "output_type": "stream",
     "text": [
      "Census Data for Canada:\n",
      "                       Topic  \\\n",
      "0  Household characteristics   \n",
      "1  Household characteristics   \n",
      "2  Household characteristics   \n",
      "3  Household characteristics   \n",
      "4  Household characteristics   \n",
      "\n",
      "                                      Characteristic       Total  Men  Women  \n",
      "0  Total - Private households by tenure - 25% sam...  14978940.0  0.0    0.0  \n",
      "1                                              Owner   9955975.0  0.0    0.0  \n",
      "2                                             Renter   4953840.0  0.0    0.0  \n",
      "3  Dwelling provided by the local government, Fir...     69130.0  0.0    0.0  \n",
      "4  Total - Occupied private dwellings by condomin...  14978940.0  0.0    0.0  \n"
     ]
    }
   ],
   "source": [
    "# Display the cleaned data\n",
    "print(\"Census Data for Canada:\")\n",
    "print(census_df.head())"
   ]
  },
  {
   "cell_type": "markdown",
   "id": "a47ff0a4-0d85-46bc-8520-5eca34815029",
   "metadata": {},
   "source": [
    "### Integrate the Datasets\n",
    "Since the Census Data represents a single year (2021) and doesn’t have a time-based component, we’ll integrate it with the Online Retail Data by aggregating the retail data to match the census data's granularity."
   ]
  },
  {
   "cell_type": "code",
   "execution_count": 28,
   "id": "2838ec13-fdc7-4fab-a3ce-6f8cbfb4bfe8",
   "metadata": {},
   "outputs": [
    {
     "name": "stdout",
     "output_type": "stream",
     "text": [
      "Aggregated Online Retail Data:\n",
      "                         Description  TotalAmount  Quantity\n",
      "0      4 PURPLE FLOCK DINNER CANDLES       285.70       142\n",
      "1      50'S CHRISTMAS GIFT BAG LARGE      2341.13      1913\n",
      "2                  DOLLY GIRL BEAKER      2877.50      2444\n",
      "3        I LOVE LONDON MINI BACKPACK      1624.02       388\n",
      "4        I LOVE LONDON MINI RUCKSACK         4.15         1\n",
      "...                              ...          ...       ...\n",
      "4191     wrongly marked carton 22804         0.00      -256\n",
      "4192    wrongly marked. 23343 in box         0.00     -3100\n",
      "4193    wrongly sold (22719) barcode         0.00       170\n",
      "4194            wrongly sold as sets         0.00      -600\n",
      "4195               wrongly sold sets         0.00      -975\n",
      "\n",
      "[4196 rows x 3 columns]\n"
     ]
    }
   ],
   "source": [
    "# Calculate TotalAmount by multiplying Quantity by UnitPrice\n",
    "online_retail_canada['TotalAmount'] = online_retail_canada['Quantity'] * online_retail_df['UnitPrice']\n",
    "\n",
    "# Aggregate online retail data by product category (Description)\n",
    "online_retail_agg = online_retail_df.groupby('Description').agg({\n",
    "    'TotalAmount': 'sum',  # Sum of 'TotalAmount'\n",
    "    'Quantity': 'sum'      # Sum of 'Quantity'\n",
    "}).reset_index()\n",
    "\n",
    "# Display the aggregated data\n",
    "print(\"Aggregated Online Retail Data:\")\n",
    "print(online_retail_agg)"
   ]
  },
  {
   "cell_type": "code",
   "execution_count": 25,
   "id": "525b6a6b-6101-4fe1-86d2-85766fed5d7e",
   "metadata": {},
   "outputs": [
    {
     "name": "stdout",
     "output_type": "stream",
     "text": [
      "Total Population: 5537437599.011\n",
      "Total Men: 2300088390.8\n",
      "Total Women: 2340113782.8999996\n"
     ]
    }
   ],
   "source": [
    "# Aggregate census data to get total population, men, and women\n",
    "total_population = census_df['Total'].sum()\n",
    "total_men = census_df['Men'].sum()\n",
    "total_women = census_df['Women'].sum()\n",
    "\n",
    "print(f\"Total Population: {total_population}\")\n",
    "print(f\"Total Men: {total_men}\")\n",
    "print(f\"Total Women: {total_women}\")"
   ]
  },
  {
   "cell_type": "markdown",
   "id": "aa96a17d-6ab8-4b21-83dd-39c6b4de74ef",
   "metadata": {},
   "source": [
    "### Merge the Datasets"
   ]
  },
  {
   "cell_type": "code",
   "execution_count": 29,
   "id": "b5d28249-fd8f-491a-9e59-1663482192f3",
   "metadata": {},
   "outputs": [
    {
     "name": "stdout",
     "output_type": "stream",
     "text": [
      "Online Retail Data with Demographic Context:\n",
      "       InvoiceNo StockCode                        Description  Quantity  \\\n",
      "490966    559557     21232     STRAWBERRY CERAMIC TRINKET BOX        12   \n",
      "490967    559557     21892  TRADITIONAL WOODEN CATCH CUP GAME        12   \n",
      "491027    564428     21993         FLORAL FOLK STATIONERY SET        12   \n",
      "493556    557322     22561        WOODEN SCHOOL COLOURING SET        12   \n",
      "493557    557322     23191       BUNDLE OF 3 RETRO NOTE BOOKS        12   \n",
      "\n",
      "               InvoiceDate  UnitPrice  CustomerID Country  TotalAmount  \\\n",
      "490966 2011-07-11 10:33:00       1.25     17444.0  Canada         15.0   \n",
      "490967 2011-07-11 10:33:00       1.25     17444.0  Canada         15.0   \n",
      "491027 2011-08-25 11:27:00       1.25     17844.0  Canada         15.0   \n",
      "493556 2011-06-20 09:04:00       1.65     17444.0  Canada         19.8   \n",
      "493557 2011-06-20 09:04:00       1.65     17444.0  Canada         19.8   \n",
      "\n",
      "          Month  TotalPopulation      TotalMen    TotalWomen  \n",
      "490966  2011-07     5.537438e+09  2.300088e+09  2.340114e+09  \n",
      "490967  2011-07     5.537438e+09  2.300088e+09  2.340114e+09  \n",
      "491027  2011-08     5.537438e+09  2.300088e+09  2.340114e+09  \n",
      "493556  2011-06     5.537438e+09  2.300088e+09  2.340114e+09  \n",
      "493557  2011-06     5.537438e+09  2.300088e+09  2.340114e+09  \n"
     ]
    }
   ],
   "source": [
    "# Add demographic context to the online retail data\n",
    "online_retail_canada['TotalPopulation'] = total_population\n",
    "online_retail_canada['TotalMen'] = total_men\n",
    "online_retail_canada['TotalWomen'] = total_women\n",
    "\n",
    "# Display the updated data\n",
    "print(\"Online Retail Data with Demographic Context:\")\n",
    "print(online_retail_canada.head())"
   ]
  },
  {
   "cell_type": "markdown",
   "id": "4d0985d1-0811-4232-91ce-176628efe0d4",
   "metadata": {},
   "source": [
    "### Perform Advanced Analytics"
   ]
  },
  {
   "cell_type": "markdown",
   "id": "2bb2c649-abc4-4200-ba06-18d223b6b8bb",
   "metadata": {},
   "source": [
    "#### Analyze Sales by Demographic Factors"
   ]
  },
  {
   "cell_type": "code",
   "execution_count": 30,
   "id": "e5feb783-738b-4f63-8515-356d3719d1bc",
   "metadata": {},
   "outputs": [
    {
     "data": {
      "image/png": "[encoded data removed]",
      "text/plain": [
       "<Figure size 1000x600 with 1 Axes>"
      ]
     },
     "metadata": {},
     "output_type": "display_data"
    }
   ],
   "source": [
    "# Plot Total Sales vs Total Population\n",
    "plt.figure(figsize=(10, 6))\n",
    "plt.scatter(online_retail_canada['TotalPopulation'], online_retail_canada['TotalAmount'], alpha=0.5)\n",
    "plt.title('Total Sales vs Total Population in Canada')\n",
    "plt.xlabel('Total Population (Census)')\n",
    "plt.ylabel('Total Sales (Retail)')\n",
    "plt.grid(True)\n",
    "plt.show()"
   ]
  },
  {
   "cell_type": "markdown",
   "id": "a4b31df7-9a33-421f-acc9-f6179c9ec81d",
   "metadata": {},
   "source": [
    "### Explore Additional Demographic Factors\n",
    "Since total population alone doesn’t show a strong relationship with sales, we’ll incorporate other demographic factors from the Census Data to better understand consumer behavior."
   ]
  },
  {
   "cell_type": "code",
   "execution_count": 34,
   "id": "ee4493d3-7c27-492f-9c6c-81336ece554c",
   "metadata": {},
   "outputs": [
    {
     "name": "stdout",
     "output_type": "stream",
     "text": [
      "Online Retail Data with Census Metrics:\n",
      "  InvoiceNo StockCode             Description  Quantity       InvoiceDate  \\\n",
      "0    541999     20717  STRAWBERRY SHOPPER BAG         1  2011-01-25 10:45   \n",
      "1    543546     20717  STRAWBERRY SHOPPER BAG         1  2011-02-09 16:52   \n",
      "2    544323     20717  STRAWBERRY SHOPPER BAG         1  2011-02-17 15:51   \n",
      "3    544681     20717  STRAWBERRY SHOPPER BAG         1  2011-02-22 16:28   \n",
      "4    544812     20717  STRAWBERRY SHOPPER BAG         1  2011-02-23 15:58   \n",
      "\n",
      "   UnitPrice  CustomerID         Country  TotalAmount  TotalPopulation  \\\n",
      "0       2.46         NaN  United Kingdom         2.46       14978940.0   \n",
      "1       2.46         NaN  United Kingdom         2.46       14978940.0   \n",
      "2       2.46         NaN  United Kingdom         2.46       14978940.0   \n",
      "3       2.46         NaN  United Kingdom         2.46       14978940.0   \n",
      "4       2.46         NaN  United Kingdom         2.46       14978940.0   \n",
      "\n",
      "       TotalMen    TotalWomen  AverageIncome  RetailEmployment  \\\n",
      "0  2.300088e+09  2.340114e+09        43080.0         2149640.0   \n",
      "1  2.300088e+09  2.340114e+09        43080.0         2149640.0   \n",
      "2  2.300088e+09  2.340114e+09        43080.0         2149640.0   \n",
      "3  2.300088e+09  2.340114e+09        43080.0         2149640.0   \n",
      "4  2.300088e+09  2.340114e+09        43080.0         2149640.0   \n",
      "\n",
      "   HouseholdOwnership  PublicTransitUsers  WorkFromHome  \n",
      "0           9955975.0           1000510.0     4214860.0  \n",
      "1           9955975.0           1000510.0     4214860.0  \n",
      "2           9955975.0           1000510.0     4214860.0  \n",
      "3           9955975.0           1000510.0     4214860.0  \n",
      "4           9955975.0           1000510.0     4214860.0  \n"
     ]
    }
   ],
   "source": [
    "# Aggregate census data to get key metrics\n",
    "census_agg = {\n",
    "    'TotalPopulation': census_df.loc[census_df['Characteristic'] == 'Total - Private households by tenure - 25% sample data', 'Total'].values[0],\n",
    "    'AverageIncome': census_df.loc[census_df['Characteristic'] == 'Average after-tax income in 2020 ($)', 'Men'].values[0],\n",
    "    'RetailEmployment': census_df.loc[census_df['Characteristic'] == '44-45 Retail trade', 'Total'].values[0],\n",
    "    'HouseholdOwnership': census_df.loc[census_df['Characteristic'] == 'Owner', 'Total'].values[0],\n",
    "    'PublicTransitUsers': census_df.loc[census_df['Characteristic'] == 'Public transit', 'Total'].values[0],\n",
    "    'WorkFromHome': census_df.loc[census_df['Characteristic'] == 'Worked at home', 'Total'].values[0],\n",
    "}\n",
    "\n",
    "# Add aggregated census data to the online retail data\n",
    "for key, value in census_agg.items():\n",
    "    online_retail_df[key] = value\n",
    "\n",
    "# Display the updated data\n",
    "print(\"Online Retail Data with Census Metrics:\")\n",
    "print(online_retail_df.head())"
   ]
  },
  {
   "cell_type": "markdown",
   "id": "2c36891a-9044-40dd-a9cb-83704b5c9af3",
   "metadata": {},
   "source": [
    "### Feature Engineering\n",
    "We’ll create additional features to improve the predictive model."
   ]
  },
  {
   "cell_type": "code",
   "execution_count": 38,
   "id": "30798273-08a3-40af-b9bf-826ba4a263f7",
   "metadata": {},
   "outputs": [],
   "source": [
    "# Ensure the InvoiceDate column is in datetime format\n",
    "online_retail_df['InvoiceDate'] = pd.to_datetime(online_retail_df['InvoiceDate'], errors='coerce')"
   ]
  },
  {
   "cell_type": "code",
   "execution_count": 39,
   "id": "0e3124e5-e725-49eb-9eae-b310befaa56c",
   "metadata": {},
   "outputs": [
    {
     "name": "stdout",
     "output_type": "stream",
     "text": [
      "Online Retail Data with Time-Based Features:\n",
      "          InvoiceDate  PurchaseMonth  PurchaseYear  PurchaseDuration\n",
      "0 2011-01-25 10:45:00              1          2011               318\n",
      "1 2011-02-09 16:52:00              2          2011               302\n",
      "2 2011-02-17 15:51:00              2          2011               294\n",
      "3 2011-02-22 16:28:00              2          2011               289\n",
      "4 2011-02-23 15:58:00              2          2011               288\n"
     ]
    }
   ],
   "source": [
    "# Define a reference date (e.g., maximum date in the dataset)\n",
    "reference_date = online_retail_df['InvoiceDate'].max()\n",
    "\n",
    "# Calculate the purchase duration in days\n",
    "online_retail_df['PurchaseDuration'] = (reference_date - online_retail_df['InvoiceDate']).dt.days\n",
    "\n",
    "# Display the updated DataFrame\n",
    "print(\"Online Retail Data with Time-Based Features:\")\n",
    "print(online_retail_df[['InvoiceDate', 'PurchaseMonth', 'PurchaseYear', 'PurchaseDuration']].head())\n"
   ]
  },
  {
   "cell_type": "markdown",
   "id": "58cef5f0-7e41-41dd-8a13-b25f96b47fa7",
   "metadata": {},
   "source": [
    "### Demographic Features\n",
    "Add demographic features from the census data"
   ]
  },
  {
   "cell_type": "code",
   "execution_count": 42,
   "id": "1519e605-07b3-45e4-9398-272253753a14",
   "metadata": {},
   "outputs": [
    {
     "name": "stdout",
     "output_type": "stream",
     "text": [
      "Online Retail Data with Demographic Features:\n",
      "   IncomePerCapita  RetailEmploymentRate\n",
      "0         0.002876              0.143511\n",
      "1         0.002876              0.143511\n",
      "2         0.002876              0.143511\n",
      "3         0.002876              0.143511\n",
      "4         0.002876              0.143511\n"
     ]
    }
   ],
   "source": [
    "# Add demographic features\n",
    "online_retail_df['IncomePerCapita'] = online_retail_df['AverageIncome'] / online_retail_df['TotalPopulation']\n",
    "online_retail_df['RetailEmploymentRate'] = online_retail_df['RetailEmployment'] / online_retail_df['TotalPopulation']\n",
    "\n",
    "# Display the updated data\n",
    "print(\"Online Retail Data with Demographic Features:\")\n",
    "print(online_retail_df[['IncomePerCapita', 'RetailEmploymentRate']].head())"
   ]
  },
  {
   "cell_type": "markdown",
   "id": "8ddbe727-f8c1-4a81-9e14-7b46470e0642",
   "metadata": {},
   "source": [
    "### Build the Predictive Model\n",
    "We’ll build a robust predictive model using multiple features from both datasets."
   ]
  },
  {
   "cell_type": "markdown",
   "id": "a2718669-ca05-46fd-b7bf-281ecda9e592",
   "metadata": {},
   "source": [
    "#### Define Features and Target\n",
    "Use all relevant features to predict TotalAmount"
   ]
  },
  {
   "cell_type": "code",
   "execution_count": 43,
   "id": "fae22cc7-5d7e-42ee-8b30-dbb5abd768ed",
   "metadata": {},
   "outputs": [],
   "source": [
    "# Define features (X) and target (y)\n",
    "X = online_retail_df[['Quantity', 'UnitPrice', 'TotalPopulation', 'AverageIncome', 'RetailEmployment', \n",
    "                      'HouseholdOwnership', 'PublicTransitUsers', 'WorkFromHome', 'PurchaseMonth', 'PurchaseYear', \n",
    "                      'PurchaseDuration', 'IncomePerCapita', 'RetailEmploymentRate']]\n",
    "y = online_retail_df['TotalAmount']\n",
    "\n",
    "# Split the data into training and testing sets\n",
    "from sklearn.model_selection import train_test_split\n",
    "X_train, X_test, y_train, y_test = train_test_split(X, y, test_size=0.2, random_state=42)"
   ]
  },
  {
   "cell_type": "markdown",
   "id": "2f51db49-0b29-45af-a07e-181ff2fdb642",
   "metadata": {},
   "source": [
    "#### Train and Evaluate the Model\n",
    "Train a machine learning model (e.g., Random Forest Regressor) and evaluate its performance."
   ]
  },
  {
   "cell_type": "code",
   "execution_count": 44,
   "id": "e6ba1b09-2176-42a7-9aa6-52324fe2334d",
   "metadata": {},
   "outputs": [
    {
     "data": {
      "text/html": [
       "<style>#sk-container-id-1 {\n",
       "  /* Definition of color scheme common for light and dark mode */\n",
       "  --sklearn-color-text: #000;\n",
       "  --sklearn-color-text-muted: #666;\n",
       "  --sklearn-color-line: gray;\n",
       "  /* Definition of color scheme for unfitted estimators */\n",
       "  --sklearn-color-unfitted-level-0: #fff5e6;\n",
       "  --sklearn-color-unfitted-level-1: #f6e4d2;\n",
       "  --sklearn-color-unfitted-level-2: #ffe0b3;\n",
       "  --sklearn-color-unfitted-level-3: chocolate;\n",
       "  /* Definition of color scheme for fitted estimators */\n",
       "  --sklearn-color-fitted-level-0: #f0f8ff;\n",
       "  --sklearn-color-fitted-level-1: #d4ebff;\n",
       "  --sklearn-color-fitted-level-2: #b3dbfd;\n",
       "  --sklearn-color-fitted-level-3: cornflowerblue;\n",
       "\n",
       "  /* Specific color for light theme */\n",
       "  --sklearn-color-text-on-default-background: var(--sg-text-color, var(--theme-code-foreground, var(--jp-content-font-color1, black)));\n",
       "  --sklearn-color-background: var(--sg-background-color, var(--theme-background, var(--jp-layout-color0, white)));\n",
       "  --sklearn-color-border-box: var(--sg-text-color, var(--theme-code-foreground, var(--jp-content-font-color1, black)));\n",
       "  --sklearn-color-icon: #696969;\n",
       "\n",
       "  @media (prefers-color-scheme: dark) {\n",
       "    /* Redefinition of color scheme for dark theme */\n",
       "    --sklearn-color-text-on-default-background: var(--sg-text-color, var(--theme-code-foreground, var(--jp-content-font-color1, white)));\n",
       "    --sklearn-color-background: var(--sg-background-color, var(--theme-background, var(--jp-layout-color0, #111)));\n",
       "    --sklearn-color-border-box: var(--sg-text-color, var(--theme-code-foreground, var(--jp-content-font-color1, white)));\n",
       "    --sklearn-color-icon: #878787;\n",
       "  }\n",
       "}\n",
       "\n",
       "#sk-container-id-1 {\n",
       "  color: var(--sklearn-color-text);\n",
       "}\n",
       "\n",
       "#sk-container-id-1 pre {\n",
       "  padding: 0;\n",
       "}\n",
       "\n",
       "#sk-container-id-1 input.sk-hidden--visually {\n",
       "  border: 0;\n",
       "  clip: rect(1px 1px 1px 1px);\n",
       "  clip: rect(1px, 1px, 1px, 1px);\n",
       "  height: 1px;\n",
       "  margin: -1px;\n",
       "  overflow: hidden;\n",
       "  padding: 0;\n",
       "  position: absolute;\n",
       "  width: 1px;\n",
       "}\n",
       "\n",
       "#sk-container-id-1 div.sk-dashed-wrapped {\n",
       "  border: 1px dashed var(--sklearn-color-line);\n",
       "  margin: 0 0.4em 0.5em 0.4em;\n",
       "  box-sizing: border-box;\n",
       "  padding-bottom: 0.4em;\n",
       "  background-color: var(--sklearn-color-background);\n",
       "}\n",
       "\n",
       "#sk-container-id-1 div.sk-container {\n",
       "  /* jupyter's `normalize.less` sets `[hidden] { display: none; }`\n",
       "     but bootstrap.min.css set `[hidden] { display: none !important; }`\n",
       "     so we also need the `!important` here to be able to override the\n",
       "     default hidden behavior on the sphinx rendered scikit-learn.org.\n",
       "     See: https://github.com/scikit-learn/scikit-learn/issues/21755 */\n",
       "  display: inline-block !important;\n",
       "  position: relative;\n",
       "}\n",
       "\n",
       "#sk-container-id-1 div.sk-text-repr-fallback {\n",
       "  display: none;\n",
       "}\n",
       "\n",
       "div.sk-parallel-item,\n",
       "div.sk-serial,\n",
       "div.sk-item {\n",
       "  /* draw centered vertical line to link estimators */\n",
       "  background-image: linear-gradient(var(--sklearn-color-text-on-default-background), var(--sklearn-color-text-on-default-background));\n",
       "  background-size: 2px 100%;\n",
       "  background-repeat: no-repeat;\n",
       "  background-position: center center;\n",
       "}\n",
       "\n",
       "/* Parallel-specific style estimator block */\n",
       "\n",
       "#sk-container-id-1 div.sk-parallel-item::after {\n",
       "  content: \"\";\n",
       "  width: 100%;\n",
       "  border-bottom: 2px solid var(--sklearn-color-text-on-default-background);\n",
       "  flex-grow: 1;\n",
       "}\n",
       "\n",
       "#sk-container-id-1 div.sk-parallel {\n",
       "  display: flex;\n",
       "  align-items: stretch;\n",
       "  justify-content: center;\n",
       "  background-color: var(--sklearn-color-background);\n",
       "  position: relative;\n",
       "}\n",
       "\n",
       "#sk-container-id-1 div.sk-parallel-item {\n",
       "  display: flex;\n",
       "  flex-direction: column;\n",
       "}\n",
       "\n",
       "#sk-container-id-1 div.sk-parallel-item:first-child::after {\n",
       "  align-self: flex-end;\n",
       "  width: 50%;\n",
       "}\n",
       "\n",
       "#sk-container-id-1 div.sk-parallel-item:last-child::after {\n",
       "  align-self: flex-start;\n",
       "  width: 50%;\n",
       "}\n",
       "\n",
       "#sk-container-id-1 div.sk-parallel-item:only-child::after {\n",
       "  width: 0;\n",
       "}\n",
       "\n",
       "/* Serial-specific style estimator block */\n",
       "\n",
       "#sk-container-id-1 div.sk-serial {\n",
       "  display: flex;\n",
       "  flex-direction: column;\n",
       "  align-items: center;\n",
       "  background-color: var(--sklearn-color-background);\n",
       "  padding-right: 1em;\n",
       "  padding-left: 1em;\n",
       "}\n",
       "\n",
       "\n",
       "/* Toggleable style: style used for estimator/Pipeline/ColumnTransformer box that is\n",
       "clickable and can be expanded/collapsed.\n",
       "- Pipeline and ColumnTransformer use this feature and define the default style\n",
       "- Estimators will overwrite some part of the style using the `sk-estimator` class\n",
       "*/\n",
       "\n",
       "/* Pipeline and ColumnTransformer style (default) */\n",
       "\n",
       "#sk-container-id-1 div.sk-toggleable {\n",
       "  /* Default theme specific background. It is overwritten whether we have a\n",
       "  specific estimator or a Pipeline/ColumnTransformer */\n",
       "  background-color: var(--sklearn-color-background);\n",
       "}\n",
       "\n",
       "/* Toggleable label */\n",
       "#sk-container-id-1 label.sk-toggleable__label {\n",
       "  cursor: pointer;\n",
       "  display: flex;\n",
       "  width: 100%;\n",
       "  margin-bottom: 0;\n",
       "  padding: 0.5em;\n",
       "  box-sizing: border-box;\n",
       "  text-align: center;\n",
       "  align-items: start;\n",
       "  justify-content: space-between;\n",
       "  gap: 0.5em;\n",
       "}\n",
       "\n",
       "#sk-container-id-1 label.sk-toggleable__label .caption {\n",
       "  font-size: 0.6rem;\n",
       "  font-weight: lighter;\n",
       "  color: var(--sklearn-color-text-muted);\n",
       "}\n",
       "\n",
       "#sk-container-id-1 label.sk-toggleable__label-arrow:before {\n",
       "  /* Arrow on the left of the label */\n",
       "  content: \"▸\";\n",
       "  float: left;\n",
       "  margin-right: 0.25em;\n",
       "  color: var(--sklearn-color-icon);\n",
       "}\n",
       "\n",
       "#sk-container-id-1 label.sk-toggleable__label-arrow:hover:before {\n",
       "  color: var(--sklearn-color-text);\n",
       "}\n",
       "\n",
       "/* Toggleable content - dropdown */\n",
       "\n",
       "#sk-container-id-1 div.sk-toggleable__content {\n",
       "  max-height: 0;\n",
       "  max-width: 0;\n",
       "  overflow: hidden;\n",
       "  text-align: left;\n",
       "  /* unfitted */\n",
       "  background-color: var(--sklearn-color-unfitted-level-0);\n",
       "}\n",
       "\n",
       "#sk-container-id-1 div.sk-toggleable__content.fitted {\n",
       "  /* fitted */\n",
       "  background-color: var(--sklearn-color-fitted-level-0);\n",
       "}\n",
       "\n",
       "#sk-container-id-1 div.sk-toggleable__content pre {\n",
       "  margin: 0.2em;\n",
       "  border-radius: 0.25em;\n",
       "  color: var(--sklearn-color-text);\n",
       "  /* unfitted */\n",
       "  background-color: var(--sklearn-color-unfitted-level-0);\n",
       "}\n",
       "\n",
       "#sk-container-id-1 div.sk-toggleable__content.fitted pre {\n",
       "  /* unfitted */\n",
       "  background-color: var(--sklearn-color-fitted-level-0);\n",
       "}\n",
       "\n",
       "#sk-container-id-1 input.sk-toggleable__control:checked~div.sk-toggleable__content {\n",
       "  /* Expand drop-down */\n",
       "  max-height: 200px;\n",
       "  max-width: 100%;\n",
       "  overflow: auto;\n",
       "}\n",
       "\n",
       "#sk-container-id-1 input.sk-toggleable__control:checked~label.sk-toggleable__label-arrow:before {\n",
       "  content: \"▾\";\n",
       "}\n",
       "\n",
       "/* Pipeline/ColumnTransformer-specific style */\n",
       "\n",
       "#sk-container-id-1 div.sk-label input.sk-toggleable__control:checked~label.sk-toggleable__label {\n",
       "  color: var(--sklearn-color-text);\n",
       "  background-color: var(--sklearn-color-unfitted-level-2);\n",
       "}\n",
       "\n",
       "#sk-container-id-1 div.sk-label.fitted input.sk-toggleable__control:checked~label.sk-toggleable__label {\n",
       "  background-color: var(--sklearn-color-fitted-level-2);\n",
       "}\n",
       "\n",
       "/* Estimator-specific style */\n",
       "\n",
       "/* Colorize estimator box */\n",
       "#sk-container-id-1 div.sk-estimator input.sk-toggleable__control:checked~label.sk-toggleable__label {\n",
       "  /* unfitted */\n",
       "  background-color: var(--sklearn-color-unfitted-level-2);\n",
       "}\n",
       "\n",
       "#sk-container-id-1 div.sk-estimator.fitted input.sk-toggleable__control:checked~label.sk-toggleable__label {\n",
       "  /* fitted */\n",
       "  background-color: var(--sklearn-color-fitted-level-2);\n",
       "}\n",
       "\n",
       "#sk-container-id-1 div.sk-label label.sk-toggleable__label,\n",
       "#sk-container-id-1 div.sk-label label {\n",
       "  /* The background is the default theme color */\n",
       "  color: var(--sklearn-color-text-on-default-background);\n",
       "}\n",
       "\n",
       "/* On hover, darken the color of the background */\n",
       "#sk-container-id-1 div.sk-label:hover label.sk-toggleable__label {\n",
       "  color: var(--sklearn-color-text);\n",
       "  background-color: var(--sklearn-color-unfitted-level-2);\n",
       "}\n",
       "\n",
       "/* Label box, darken color on hover, fitted */\n",
       "#sk-container-id-1 div.sk-label.fitted:hover label.sk-toggleable__label.fitted {\n",
       "  color: var(--sklearn-color-text);\n",
       "  background-color: var(--sklearn-color-fitted-level-2);\n",
       "}\n",
       "\n",
       "/* Estimator label */\n",
       "\n",
       "#sk-container-id-1 div.sk-label label {\n",
       "  font-family: monospace;\n",
       "  font-weight: bold;\n",
       "  display: inline-block;\n",
       "  line-height: 1.2em;\n",
       "}\n",
       "\n",
       "#sk-container-id-1 div.sk-label-container {\n",
       "  text-align: center;\n",
       "}\n",
       "\n",
       "/* Estimator-specific */\n",
       "#sk-container-id-1 div.sk-estimator {\n",
       "  font-family: monospace;\n",
       "  border: 1px dotted var(--sklearn-color-border-box);\n",
       "  border-radius: 0.25em;\n",
       "  box-sizing: border-box;\n",
       "  margin-bottom: 0.5em;\n",
       "  /* unfitted */\n",
       "  background-color: var(--sklearn-color-unfitted-level-0);\n",
       "}\n",
       "\n",
       "#sk-container-id-1 div.sk-estimator.fitted {\n",
       "  /* fitted */\n",
       "  background-color: var(--sklearn-color-fitted-level-0);\n",
       "}\n",
       "\n",
       "/* on hover */\n",
       "#sk-container-id-1 div.sk-estimator:hover {\n",
       "  /* unfitted */\n",
       "  background-color: var(--sklearn-color-unfitted-level-2);\n",
       "}\n",
       "\n",
       "#sk-container-id-1 div.sk-estimator.fitted:hover {\n",
       "  /* fitted */\n",
       "  background-color: var(--sklearn-color-fitted-level-2);\n",
       "}\n",
       "\n",
       "/* Specification for estimator info (e.g. \"i\" and \"?\") */\n",
       "\n",
       "/* Common style for \"i\" and \"?\" */\n",
       "\n",
       ".sk-estimator-doc-link,\n",
       "a:link.sk-estimator-doc-link,\n",
       "a:visited.sk-estimator-doc-link {\n",
       "  float: right;\n",
       "  font-size: smaller;\n",
       "  line-height: 1em;\n",
       "  font-family: monospace;\n",
       "  background-color: var(--sklearn-color-background);\n",
       "  border-radius: 1em;\n",
       "  height: 1em;\n",
       "  width: 1em;\n",
       "  text-decoration: none !important;\n",
       "  margin-left: 0.5em;\n",
       "  text-align: center;\n",
       "  /* unfitted */\n",
       "  border: var(--sklearn-color-unfitted-level-1) 1pt solid;\n",
       "  color: var(--sklearn-color-unfitted-level-1);\n",
       "}\n",
       "\n",
       ".sk-estimator-doc-link.fitted,\n",
       "a:link.sk-estimator-doc-link.fitted,\n",
       "a:visited.sk-estimator-doc-link.fitted {\n",
       "  /* fitted */\n",
       "  border: var(--sklearn-color-fitted-level-1) 1pt solid;\n",
       "  color: var(--sklearn-color-fitted-level-1);\n",
       "}\n",
       "\n",
       "/* On hover */\n",
       "div.sk-estimator:hover .sk-estimator-doc-link:hover,\n",
       ".sk-estimator-doc-link:hover,\n",
       "div.sk-label-container:hover .sk-estimator-doc-link:hover,\n",
       ".sk-estimator-doc-link:hover {\n",
       "  /* unfitted */\n",
       "  background-color: var(--sklearn-color-unfitted-level-3);\n",
       "  color: var(--sklearn-color-background);\n",
       "  text-decoration: none;\n",
       "}\n",
       "\n",
       "div.sk-estimator.fitted:hover .sk-estimator-doc-link.fitted:hover,\n",
       ".sk-estimator-doc-link.fitted:hover,\n",
       "div.sk-label-container:hover .sk-estimator-doc-link.fitted:hover,\n",
       ".sk-estimator-doc-link.fitted:hover {\n",
       "  /* fitted */\n",
       "  background-color: var(--sklearn-color-fitted-level-3);\n",
       "  color: var(--sklearn-color-background);\n",
       "  text-decoration: none;\n",
       "}\n",
       "\n",
       "/* Span, style for the box shown on hovering the info icon */\n",
       ".sk-estimator-doc-link span {\n",
       "  display: none;\n",
       "  z-index: 9999;\n",
       "  position: relative;\n",
       "  font-weight: normal;\n",
       "  right: .2ex;\n",
       "  padding: .5ex;\n",
       "  margin: .5ex;\n",
       "  width: min-content;\n",
       "  min-width: 20ex;\n",
       "  max-width: 50ex;\n",
       "  color: var(--sklearn-color-text);\n",
       "  box-shadow: 2pt 2pt 4pt #999;\n",
       "  /* unfitted */\n",
       "  background: var(--sklearn-color-unfitted-level-0);\n",
       "  border: .5pt solid var(--sklearn-color-unfitted-level-3);\n",
       "}\n",
       "\n",
       ".sk-estimator-doc-link.fitted span {\n",
       "  /* fitted */\n",
       "  background: var(--sklearn-color-fitted-level-0);\n",
       "  border: var(--sklearn-color-fitted-level-3);\n",
       "}\n",
       "\n",
       ".sk-estimator-doc-link:hover span {\n",
       "  display: block;\n",
       "}\n",
       "\n",
       "/* \"?\"-specific style due to the `<a>` HTML tag */\n",
       "\n",
       "#sk-container-id-1 a.estimator_doc_link {\n",
       "  float: right;\n",
       "  font-size: 1rem;\n",
       "  line-height: 1em;\n",
       "  font-family: monospace;\n",
       "  background-color: var(--sklearn-color-background);\n",
       "  border-radius: 1rem;\n",
       "  height: 1rem;\n",
       "  width: 1rem;\n",
       "  text-decoration: none;\n",
       "  /* unfitted */\n",
       "  color: var(--sklearn-color-unfitted-level-1);\n",
       "  border: var(--sklearn-color-unfitted-level-1) 1pt solid;\n",
       "}\n",
       "\n",
       "#sk-container-id-1 a.estimator_doc_link.fitted {\n",
       "  /* fitted */\n",
       "  border: var(--sklearn-color-fitted-level-1) 1pt solid;\n",
       "  color: var(--sklearn-color-fitted-level-1);\n",
       "}\n",
       "\n",
       "/* On hover */\n",
       "#sk-container-id-1 a.estimator_doc_link:hover {\n",
       "  /* unfitted */\n",
       "  background-color: var(--sklearn-color-unfitted-level-3);\n",
       "  color: var(--sklearn-color-background);\n",
       "  text-decoration: none;\n",
       "}\n",
       "\n",
       "#sk-container-id-1 a.estimator_doc_link.fitted:hover {\n",
       "  /* fitted */\n",
       "  background-color: var(--sklearn-color-fitted-level-3);\n",
       "}\n",
       "</style><div id=\"sk-container-id-1\" class=\"sk-top-container\"><div class=\"sk-text-repr-fallback\"><pre>RandomForestRegressor(random_state=42)</pre><b>In a Jupyter environment, please rerun this cell to show the HTML representation or trust the notebook. <br />On GitHub, the HTML representation is unable to render, please try loading this page with nbviewer.org.</b></div><div class=\"sk-container\" hidden><div class=\"sk-item\"><div class=\"sk-estimator fitted sk-toggleable\"><input class=\"sk-toggleable__control sk-hidden--visually\" id=\"sk-estimator-id-1\" type=\"checkbox\" checked><label for=\"sk-estimator-id-1\" class=\"sk-toggleable__label fitted sk-toggleable__label-arrow\"><div><div>RandomForestRegressor</div></div><div><a class=\"sk-estimator-doc-link fitted\" rel=\"noreferrer\" target=\"_blank\" href=\"https://scikit-learn.org/1.6/modules/generated/sklearn.ensemble.RandomForestRegressor.html\">?<span>Documentation for RandomForestRegressor</span></a><span class=\"sk-estimator-doc-link fitted\">i<span>Fitted</span></span></div></label><div class=\"sk-toggleable__content fitted\"><pre>RandomForestRegressor(random_state=42)</pre></div> </div></div></div></div>"
      ],
      "text/plain": [
       "RandomForestRegressor(random_state=42)"
      ]
     },
     "execution_count": 44,
     "metadata": {},
     "output_type": "execute_result"
    }
   ],
   "source": [
    "from sklearn.ensemble import RandomForestRegressor\n",
    "from sklearn.metrics import mean_squared_error, r2_score\n",
    "\n",
    "# Train a Random Forest model\n",
    "model = RandomForestRegressor(n_estimators=100, random_state=42)\n",
    "model.fit(X_train, y_train)"
   ]
  },
  {
   "cell_type": "code",
   "execution_count": 45,
   "id": "c28fc8e3-4638-427d-ba29-4bd0fe4b1816",
   "metadata": {},
   "outputs": [
    {
     "name": "stdout",
     "output_type": "stream",
     "text": [
      "Mean Squared Error: 4500.12030252275\n",
      "R-squared: 0.708643490071127\n"
     ]
    }
   ],
   "source": [
    "# Make predictions\n",
    "y_pred = model.predict(X_test)\n",
    "\n",
    "# Evaluate the model\n",
    "mse = mean_squared_error(y_test, y_pred)\n",
    "r2 = r2_score(y_test, y_pred)\n",
    "print(f\"Mean Squared Error: {mse}\")\n",
    "print(f\"R-squared: {r2}\")"
   ]
  },
  {
   "cell_type": "code",
   "execution_count": 46,
   "id": "68e38161-574c-4896-b8de-8c8b84427bab",
   "metadata": {},
   "outputs": [
    {
     "data": {
      "image/png": "[encoded data removed]",
      "text/plain": [
       "<Figure size 1000x600 with 1 Axes>"
      ]
     },
     "metadata": {},
     "output_type": "display_data"
    }
   ],
   "source": [
    "# Plot predictions vs actual values\n",
    "import matplotlib.pyplot as plt\n",
    "\n",
    "plt.figure(figsize=(10, 6))\n",
    "plt.scatter(y_test, y_pred, alpha=0.5)\n",
    "plt.plot([y_test.min(), y_test.max()], [y_test.min(), y_test.max()], 'r--')\n",
    "plt.title('Actual vs Predicted Sales in Canada')\n",
    "plt.xlabel('Actual Sales')\n",
    "plt.ylabel('Predicted Sales')\n",
    "plt.show()"
   ]
  },
  {
   "cell_type": "code",
   "execution_count": 47,
   "id": "5f61d0d3-92a7-466c-8d5a-3d0240408b00",
   "metadata": {},
   "outputs": [],
   "source": [
    "# Save the updated online retail data\n",
    "online_retail_df.to_csv('Online_Retail_Canada_With_Census_Data.csv', index=False)\n",
    "\n",
    "# Save the predictions\n",
    "predictions_df = pd.DataFrame({'Actual': y_test, 'Predicted': y_pred})\n",
    "predictions_df.to_csv('Predictions_with_Census_Data_Canada.csv', index=False)"
   ]
  },
  {
   "cell_type": "markdown",
   "id": "ea65cf12-99b3-4716-ad54-345f9b560e4c",
   "metadata": {},
   "source": [
    "#### Classification model that predicts whether a customer will make a purchase or not based on demographic and transactional features. \n",
    "1: Customer will make a purchase.\r\n",
    "\r\n",
    "0: Customer will not make a purchase."
   ]
  },
  {
   "cell_type": "code",
   "execution_count": 48,
   "id": "4fbc2a55-d7d3-4e97-9fc1-7f5387290f55",
   "metadata": {},
   "outputs": [
    {
     "name": "stdout",
     "output_type": "stream",
     "text": [
      "Online Retail Data with Target Variable:\n",
      "   TotalAmount  WillBuy\n",
      "0         2.46        1\n",
      "1         2.46        1\n",
      "2         2.46        1\n",
      "3         2.46        1\n",
      "4         2.46        1\n"
     ]
    }
   ],
   "source": [
    "# Create the target variable\n",
    "online_retail_df['WillBuy'] = (online_retail_df['TotalAmount'] > 0).astype(int)\n",
    "\n",
    "# Display the updated data\n",
    "print(\"Online Retail Data with Target Variable:\")\n",
    "print(online_retail_df[['TotalAmount', 'WillBuy']].head())"
   ]
  },
  {
   "cell_type": "code",
   "execution_count": 49,
   "id": "ef71a104-f88d-4f31-b0cf-8579402304f4",
   "metadata": {},
   "outputs": [],
   "source": [
    "# Define features (X) and target (y)\n",
    "X = online_retail_df[['Quantity', 'UnitPrice', 'TotalPopulation', 'AverageIncome', 'RetailEmployment', \n",
    "                      'HouseholdOwnership', 'PublicTransitUsers', 'WorkFromHome', 'PurchaseMonth', 'PurchaseYear', \n",
    "                      'PurchaseDuration', 'IncomePerCapita', 'RetailEmploymentRate']]\n",
    "y = online_retail_df['WillBuy']\n",
    "\n",
    "# Split the data into training and testing sets\n",
    "from sklearn.model_selection import train_test_split\n",
    "X_train, X_test, y_train, y_test = train_test_split(X, y, test_size=0.2, random_state=42)"
   ]
  },
  {
   "cell_type": "code",
   "execution_count": 50,
   "id": "d2acc22e-6b15-45be-b18d-0fa98f1ac08a",
   "metadata": {},
   "outputs": [],
   "source": [
    "from sklearn.ensemble import RandomForestClassifier\n",
    "from sklearn.metrics import accuracy_score, classification_report, confusion_matrix\n",
    "\n",
    "# Train a Random Forest Classifier\n",
    "classifier = RandomForestClassifier(n_estimators=100, random_state=42)\n",
    "classifier.fit(X_train, y_train)\n",
    "\n",
    "# Make predictions on the test set\n",
    "y_pred = classifier.predict(X_test)"
   ]
  },
  {
   "cell_type": "code",
   "execution_count": 51,
   "id": "5df1d2cb-ff47-4bbd-b168-1b14080c80cd",
   "metadata": {},
   "outputs": [
    {
     "name": "stdout",
     "output_type": "stream",
     "text": [
      "Accuracy: 1.00\n",
      "Classification Report:\n",
      "              precision    recall  f1-score   support\n",
      "\n",
      "           0       1.00      1.00      1.00      2305\n",
      "           1       1.00      1.00      1.00    105024\n",
      "\n",
      "    accuracy                           1.00    107329\n",
      "   macro avg       1.00      1.00      1.00    107329\n",
      "weighted avg       1.00      1.00      1.00    107329\n",
      "\n",
      "Confusion Matrix:\n",
      "[[  2305      0]\n",
      " [     0 105024]]\n"
     ]
    }
   ],
   "source": [
    "# Calculate accuracy\n",
    "accuracy = accuracy_score(y_test, y_pred)\n",
    "print(f\"Accuracy: {accuracy:.2f}\")\n",
    "\n",
    "# Classification report\n",
    "print(\"Classification Report:\")\n",
    "print(classification_report(y_test, y_pred))\n",
    "\n",
    "# Confusion matrix\n",
    "conf_matrix = confusion_matrix(y_test, y_pred)\n",
    "print(\"Confusion Matrix:\")\n",
    "print(conf_matrix)"
   ]
  },
  {
   "cell_type": "markdown",
   "id": "3b8a5a51-ba64-43f2-a7b3-c3b186113dff",
   "metadata": {},
   "source": [
    "### Testing the Model (Prediction)"
   ]
  },
  {
   "cell_type": "code",
   "execution_count": 52,
   "id": "63c962ad-c773-45c9-b924-b4e6bf350170",
   "metadata": {},
   "outputs": [
    {
     "name": "stdout",
     "output_type": "stream",
     "text": [
      "Sample Input Data for Predictions:\n",
      "   Quantity  UnitPrice  TotalPopulation  AverageIncome  RetailEmployment  \\\n",
      "0        10        5.0       14978940.0        43080.0         2149640.0   \n",
      "1         5       10.0       14978940.0        43080.0         2149640.0   \n",
      "2        20        2.5       14978940.0        43080.0         2149640.0   \n",
      "\n",
      "   HouseholdOwnership  PublicTransitUsers  WorkFromHome  PurchaseMonth  \\\n",
      "0           9955975.0           1000510.0     4214860.0              6   \n",
      "1           9955975.0           1000510.0     4214860.0             12   \n",
      "2           9955975.0           1000510.0     4214860.0              3   \n",
      "\n",
      "   PurchaseYear  PurchaseDuration  IncomePerCapita  RetailEmploymentRate  \n",
      "0          2011                30         0.002876              0.143511  \n",
      "1          2011                90         0.002876              0.143511  \n",
      "2          2011                15         0.002876              0.143511  \n"
     ]
    }
   ],
   "source": [
    "# Create sample input data\n",
    "sample_data = {\n",
    "    'Quantity': [10, 5, 20],\n",
    "    'UnitPrice': [5.0, 10.0, 2.5],\n",
    "    'TotalPopulation': [14978940.0, 14978940.0, 14978940.0],\n",
    "    'AverageIncome': [43080.0, 43080.0, 43080.0],\n",
    "    'RetailEmployment': [2149640.0, 2149640.0, 2149640.0],\n",
    "    'HouseholdOwnership': [9955975.0, 9955975.0, 9955975.0],\n",
    "    'PublicTransitUsers': [1000510.0, 1000510.0, 1000510.0],\n",
    "    'WorkFromHome': [4214860.0, 4214860.0, 4214860.0],\n",
    "    'PurchaseMonth': [6, 12, 3],  # June, December, March\n",
    "    'PurchaseYear': [2011, 2011, 2011],\n",
    "    'PurchaseDuration': [30, 90, 15],  # Duration in days\n",
    "    'IncomePerCapita': [43080.0 / 14978940.0, 43080.0 / 14978940.0, 43080.0 / 14978940.0],\n",
    "    'RetailEmploymentRate': [2149640.0 / 14978940.0, 2149640.0 / 14978940.0, 2149640.0 / 14978940.0]\n",
    "}\n",
    "\n",
    "# Convert to DataFrame\n",
    "sample_df = pd.DataFrame(sample_data)\n",
    "\n",
    "# Display the sample input data\n",
    "print(\"Sample Input Data for Predictions:\")\n",
    "print(sample_df)"
   ]
  },
  {
   "cell_type": "code",
   "execution_count": 53,
   "id": "c9f327e0-d14e-406d-bafa-d5bb105ef8fa",
   "metadata": {},
   "outputs": [
    {
     "name": "stdout",
     "output_type": "stream",
     "text": [
      "Predictions for Sample Input Data:\n",
      "   Quantity  UnitPrice  WillBuy\n",
      "0        10        5.0        1\n",
      "1         5       10.0        1\n",
      "2        20        2.5        1\n"
     ]
    }
   ],
   "source": [
    "# Make predictions using the trained classifier\n",
    "sample_predictions = classifier.predict(sample_df)\n",
    "\n",
    "# Add predictions to the sample DataFrame\n",
    "sample_df['WillBuy'] = sample_predictions\n",
    "\n",
    "# Display the predictions\n",
    "print(\"Predictions for Sample Input Data:\")\n",
    "print(sample_df[['Quantity', 'UnitPrice', 'WillBuy']])"
   ]
  },
  {
   "cell_type": "code",
   "execution_count": 55,
   "id": "1420dcb3-71c2-4f78-93b6-adb0aabd63b5",
   "metadata": {},
   "outputs": [
    {
     "name": "stdout",
     "output_type": "stream",
     "text": [
      "Sample Input Data for Predictions:\n",
      "   Quantity  UnitPrice  TotalPopulation  AverageIncome  RetailEmployment  \\\n",
      "0        10        5.0       14978940.0        43080.0         2149640.0   \n",
      "1         5       10.0       14978940.0        43080.0         2149640.0   \n",
      "2        20        2.5       14978940.0        43080.0         2149640.0   \n",
      "\n",
      "   HouseholdOwnership  PublicTransitUsers  WorkFromHome  PurchaseMonth  \\\n",
      "0           9955975.0           1000510.0     4214860.0              6   \n",
      "1           9955975.0           1000510.0     4214860.0             12   \n",
      "2           9955975.0           1000510.0     4214860.0              3   \n",
      "\n",
      "   PurchaseYear  PurchaseDuration  IncomePerCapita  RetailEmploymentRate  \n",
      "0          2011                30         0.002876              0.143511  \n",
      "1          2011                90         0.002876              0.143511  \n",
      "2          2011                15         0.002876              0.143511  \n"
     ]
    }
   ],
   "source": [
    "# Create sample input data\n",
    "sample_data = {\n",
    "    'Quantity': [10, 5, 20],\n",
    "    'UnitPrice': [5.0, 10.0, 2.5],\n",
    "    'TotalPopulation': [14978940.0, 14978940.0, 14978940.0],\n",
    "    'AverageIncome': [43080.0, 43080.0, 43080.0],\n",
    "    'RetailEmployment': [2149640.0, 2149640.0, 2149640.0],\n",
    "    'HouseholdOwnership': [9955975.0, 9955975.0, 9955975.0],\n",
    "    'PublicTransitUsers': [1000510.0, 1000510.0, 1000510.0],\n",
    "    'WorkFromHome': [4214860.0, 4214860.0, 4214860.0],\n",
    "    'PurchaseMonth': [6, 12, 3],  # June, December, March\n",
    "    'PurchaseYear': [2011, 2011, 2011],\n",
    "    'PurchaseDuration': [30, 90, 15],  # Duration in days\n",
    "    'IncomePerCapita': [43080.0 / 14978940.0, 43080.0 / 14978940.0, 43080.0 / 14978940.0],\n",
    "    'RetailEmploymentRate': [2149640.0 / 14978940.0, 2149640.0 / 14978940.0, 2149640.0 / 14978940.0]\n",
    "}\n",
    "\n",
    "# Convert to DataFrame\n",
    "sample_df = pd.DataFrame(sample_data)\n",
    "\n",
    "# Display the sample input data\n",
    "print(\"Sample Input Data for Predictions:\")\n",
    "print(sample_df)"
   ]
  },
  {
   "cell_type": "code",
   "execution_count": 56,
   "id": "1f77f1c7-1ceb-450b-9133-869ef7414459",
   "metadata": {},
   "outputs": [
    {
     "name": "stdout",
     "output_type": "stream",
     "text": [
      "Predictions for Sample Input Data:\n",
      "   Quantity  UnitPrice  PredictedSales\n",
      "0        10        5.0          49.600\n",
      "1         5       10.0          49.827\n",
      "2        20        2.5          49.952\n"
     ]
    }
   ],
   "source": [
    "# Make predictions using the trained model\n",
    "sample_predictions = model.predict(sample_df)\n",
    "\n",
    "# Add predictions to the sample DataFrame\n",
    "sample_df['PredictedSales'] = sample_predictions\n",
    "\n",
    "# Display the predictions\n",
    "print(\"Predictions for Sample Input Data:\")\n",
    "print(sample_df[['Quantity', 'UnitPrice', 'PredictedSales']])"
   ]
  },
  {
   "cell_type": "code",
   "execution_count": null,
   "id": "e7cd79f0-02c6-44fa-b237-a89a0af233ec",
   "metadata": {},
   "outputs": [],
   "source": []
  },
  {
   "cell_type": "code",
   "execution_count": null,
   "id": "729088f0-139c-4364-abe6-9970e7775f3f",
   "metadata": {},
   "outputs": [],
   "source": []
  },
  {
   "cell_type": "code",
   "execution_count": null,
   "id": "242e3c95-1df8-46e4-939d-56a2307be3e5",
   "metadata": {},
   "outputs": [],
   "source": []
  }
 ],
 "metadata": {
  "kernelspec": {
   "display_name": "Python 3 (ipykernel)",
   "language": "python",
   "name": "python3"
  },
  "language_info": {
   "codemirror_mode": {
    "name": "ipython",
    "version": 3
   },
   "file_extension": ".py",
   "mimetype": "text/x-python",
   "name": "python",
   "nbconvert_exporter": "python",
   "pygments_lexer": "ipython3",
   "version": "3.11.7"
  }
 },
 "nbformat": 4,
 "nbformat_minor": 5
}
